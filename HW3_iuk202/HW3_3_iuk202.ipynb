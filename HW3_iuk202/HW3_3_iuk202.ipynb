{
 "cells": [
  {
   "cell_type": "code",
   "execution_count": 1,
   "metadata": {
    "collapsed": true
   },
   "outputs": [],
   "source": [
    "import pandas as pd\n",
    "import numpy as np\n",
    "import scipy.stats as st"
   ]
  },
  {
   "cell_type": "markdown",
   "metadata": {},
   "source": [
    "# idea: the new bus route will be faster than the old bus route"
   ]
  },
  {
   "cell_type": "markdown",
   "metadata": {},
   "source": [
    "# null hypothesis: the average duration of trips on the new route will be greater than or equal to the average duration of trips on the old route, with a significance value of 0.05"
   ]
  },
  {
   "cell_type": "markdown",
   "metadata": {},
   "source": [
    "# alt hypothesis: the average duration of trips on the new route will be less than the average of trips on the old route, with a significance value of 0.05"
   ]
  },
  {
   "cell_type": "code",
   "execution_count": 2,
   "metadata": {
    "collapsed": true
   },
   "outputs": [],
   "source": [
    "data = pd.read_table(\"https://raw.githubusercontent.com/fedhere/PUI2017_fb55\" + \n",
    "                     \"/master/Lab3_fb55/times.txt\", header = None).values.squeeze()"
   ]
  },
  {
   "cell_type": "code",
   "execution_count": 3,
   "metadata": {
    "collapsed": false
   },
   "outputs": [
    {
     "data": {
      "text/plain": [
       "array([ 31.62223931,  32.82137636,  30.2291014 ,  31.41376587,\n",
       "        39.01055035,  34.82207891,  39.87188366,  39.57994562,\n",
       "        31.02658678,  27.66246068,  18.8752884 ,  46.2313731 ,\n",
       "        30.01522604,  47.6004104 ,  16.52726666,  42.4462331 ,\n",
       "        33.62527449,  42.28462558,  46.20520667,  30.87517392,\n",
       "        32.94800341,  26.17691512,  31.25699649,  35.33644554,\n",
       "        35.64072501,  40.32297174,  38.04348588,  29.4579793 ,\n",
       "        23.91636367,  34.56403521,  45.42782464,  38.95607754,\n",
       "        39.11396748,  39.67398759,  31.89148105,  22.62379325,\n",
       "        26.18910408,  43.54114213,  33.2607386 ,  31.67602384,\n",
       "        37.12846259,  38.22048496,  34.38814185,  36.11407371,\n",
       "        44.08064814,  29.59917161,  37.02411751,  41.60576556,\n",
       "        44.37860528,  38.06471077,  22.90526456,  40.27182857,\n",
       "        31.57979239,  25.88037795,  28.8913048 ,  44.33687925,\n",
       "        36.78948684,  43.46098875,  40.65557   ,  26.16634004,\n",
       "        25.13884784,  33.01581456,  32.87050073,  26.28557154,\n",
       "        39.44933037,  36.25528612,  40.719133  ,  40.57181545,\n",
       "        19.87166413,  43.21925286,  31.48102823,  37.14915056,\n",
       "        38.991504  ,  20.53059384,  27.80447692,  38.69933298,\n",
       "        30.0223142 ,  38.64884169,  26.40668884,  32.10224978,\n",
       "        28.31532754,  43.26195884,  40.3609407 ,  37.3025258 ,\n",
       "        31.45110181,  38.79599524,  36.92553372,  32.37167945,\n",
       "        23.25835631,  26.42613261,  48.74987653,  31.42512354,\n",
       "        46.80679298,  30.59748648,  20.7926322 ,  26.19785226,\n",
       "        42.7274097 ,  33.7314695 ,  37.23859057,  36.33984141])"
      ]
     },
     "execution_count": 3,
     "metadata": {},
     "output_type": "execute_result"
    }
   ],
   "source": [
    "data"
   ]
  },
  {
   "cell_type": "code",
   "execution_count": 4,
   "metadata": {
    "collapsed": false
   },
   "outputs": [
    {
     "data": {
      "text/plain": [
       "34.466161688299998"
      ]
     },
     "execution_count": 4,
     "metadata": {},
     "output_type": "execute_result"
    }
   ],
   "source": [
    "sample_mean = data.mean()\n",
    "sample_mean"
   ]
  },
  {
   "cell_type": "code",
   "execution_count": 5,
   "metadata": {
    "collapsed": false
   },
   "outputs": [
    {
     "data": {
      "text/plain": [
       "7.1015040681937771"
      ]
     },
     "execution_count": 5,
     "metadata": {},
     "output_type": "execute_result"
    }
   ],
   "source": [
    "sample_std = data.std()\n",
    "sample_std"
   ]
  },
  {
   "cell_type": "code",
   "execution_count": 8,
   "metadata": {
    "collapsed": true
   },
   "outputs": [],
   "source": [
    "pop_mean = 36\n",
    "pop_std = 6\n",
    "sqrt_n = np.sqrt(len(data))"
   ]
  },
  {
   "cell_type": "code",
   "execution_count": 10,
   "metadata": {
    "collapsed": false
   },
   "outputs": [
    {
     "data": {
      "text/plain": [
       "2.5563971861666701"
      ]
     },
     "execution_count": 10,
     "metadata": {},
     "output_type": "execute_result"
    }
   ],
   "source": [
    "z = (pop_mean - sample_mean) / (pop_std / sqrt_n)\n",
    "z"
   ]
  },
  {
   "cell_type": "markdown",
   "metadata": {},
   "source": [
    "# z score is 2.5, which is greater than 2. so we reject the null hypothesis."
   ]
  },
  {
   "cell_type": "markdown",
   "metadata": {},
   "source": [
    "# the trip duration is indeed shorter with the new route."
   ]
  },
  {
   "cell_type": "code",
   "execution_count": null,
   "metadata": {
    "collapsed": true
   },
   "outputs": [],
   "source": []
  }
 ],
 "metadata": {
  "kernelspec": {
   "display_name": "PUI2016_Python2",
   "language": "python",
   "name": "pui2016_python2"
  },
  "language_info": {
   "codemirror_mode": {
    "name": "ipython",
    "version": 2
   },
   "file_extension": ".py",
   "mimetype": "text/x-python",
   "name": "python",
   "nbconvert_exporter": "python",
   "pygments_lexer": "ipython2",
   "version": "2.7.12"
  }
 },
 "nbformat": 4,
 "nbformat_minor": 0
}
